{
 "cells": [
  {
   "cell_type": "code",
   "execution_count": 1,
   "metadata": {},
   "outputs": [],
   "source": [
    "from glob import glob\n",
    "from tqdm import tqdm\n",
    "import os, json\n",
    "from pathlib import Path\n",
    "from shutil import copy2"
   ]
  },
  {
   "cell_type": "code",
   "execution_count": 3,
   "metadata": {},
   "outputs": [
    {
     "name": "stdout",
     "output_type": "stream",
     "text": [
      "24213\n"
     ]
    }
   ],
   "source": [
    "base_path = '../data/1.Training/라벨링데이터/TL/'\n",
    "#base_path = '../data/2.Validation/라벨링데이터_221205_add/VL/' \n",
    "\n",
    "json_list = glob(os.path.join(base_path, 'json/*/*.json'))\n",
    "\n",
    "print(len(json_list))"
   ]
  },
  {
   "cell_type": "code",
   "execution_count": 4,
   "metadata": {},
   "outputs": [
    {
     "name": "stdout",
     "output_type": "stream",
     "text": [
      "{'info': [{'org_id': 4197, 'org_img_name': '4197', 'org_path': '/Images/montage/4197.png', 'org_img_size': 153, 'org_img_pix': '540x720', 'age': 55, 'gender': 'M', 'level': 3}], 'descripton': [{'org_id': 4197, 'face': {'type': '긴형', 'size': '크다', 'foreheadType': '알수없음', 'foreheadSize': '넓다', 'chinType': '주걱형', 'chinSize': '길다', 'cheek': '광대돌출(예: 비대칭은 분류 없음 선택 후 기술)', 'description': '앞머리가 왼쪽 이마를 살작 가려 이마유형은 알수 없으나 오른쪽 이마 크기를 볼때 넓다는걸 짐작 할수 있다.  앞 광대가 돌출되어 있어 빛이 반사되어 있다. '}, 'hairstyle': {'type': '곱슬머리', 'topLength': '앞머리올림', 'sizeLength': '숏컷(귀보임)', 'part': '오른쪽가르마', 'description': '2대 8 오른쪽 가르마로 풍성하게 드라이 한 듯한 모발로 옆으로 넘긴 머리 모양이다.  '}, 'eyebrows': {'type': '각진형', 'deep': '흐리다', 'length': '보통', 'thick': '보통', 'glabella': '보통', 'description': '눈썹은 각진형이며 오른쪽 눈썹은 3분에 2지점으로 갈수록 얇아지는 눈썹 형태고 왼쪽 눈썹은 잔털이 많이 있다.'}, 'eyes': {'size': '보통', 'type': '외꺼풀', 'distance': '보통', 'slant': '내려감', 'shape': '오목눈', 'eyelids': '보통', 'bottom': '있다', 'description': '눈두덩이에 살이 많고 눈썹 바로 아래가 움푹 들어간 눈 모양이다. 눈꼬리가 내려가 있으나, 졸려보이지는 않고 인자해보인다. '}, 'nose': {'size': '크다', 'length': '길다', 'height': '높다', 'top': '매부리코', 'nostrils': '보통', 'philtrum': '보통', 'description': '콧대가 툭 튀어 나와 보인다. 콧망울이 양쪽 콧볼 보다 더 내려와 있다. 콧날개는 왼쪽이 조금더 내려와 있다. '}, 'mouth': {'type': '보통형', 'size': '보통', 'shape': 'M모양', 'thick': '보통', 'ratio': '위아래가 같다', 'side': '올라감', 'line': '뚜렷함', 'description': '아래 입술이 흐리게 보여 윗 입술이 커 보인다.'}, 'neck': {'description': '목은 보통의 굵기이다. 목젖은 희미하게 보인다.'}, 'wrinkle': {'forehead': '없다', 'glabella': '보통', 'eyes': '보통', 'mouth': '보통', 'cheek': '없다', 'lib': '보통', 'neck': '보통', 'description': '팔자주름은 오른쪽이 깊게 내려와 있고 왼쪽은 중간 지점에서 희미해진다. 오른쪽 애교살은 더 많이 있어 움푹 들어가게 보인다.'}, 'feature': {'mustache': '해당사항없음', 'sideburns': '서술하기', 'dimple': '해당사항없음', 'scar': '서술하기', 'mole': '해당사항없음', 'frekles': '해당사항없음', 'spots': '해당사항없음', 'tatoo': '해당사항없음', 'makeup': '해당사항없음', 'description': '양쪽 귀 3분의 1 지점까지 구레나룻이 내려와 있고 왼쪽 입술 끝 밑으로 흉터가 보인다.'}, 'impression': {'type': '정직함', 'description': '단정하게 넘긴 풍성한 헤어 스타일과 깨끗한 피부는 깔끔한 인상을 주며 미소를 먹은 듯한 입술에선 친절한 미소가 보인다. 쌍꺼풀이 없는 눈매이긴 하나 눈이 오목하게 동글하게 생겨 부드럽게 보인다.'}}], 'sketch_info': [{'org_id': 4197, 'sketch_id': 12002, 'img_name': '4197_12002', 'img_path': '/Images/sketch/H/4197_12002.jpg', 'img_size': 135, 'img_pix': '540x720'}], 'org_sketch_info': [{'org_id': 4197, 'org_sketch_id': 34139, 'img_name': '4197', 'img_path': '/Images/org_sketch/4197.png', 'img_size': 218, 'img_pix': '540x720'}]}\n"
     ]
    }
   ],
   "source": [
    "for json_path in json_list:\n",
    "    with open(json_path, 'r',encoding='cp949') as f:\n",
    "        meta_data = json.load(f)\n",
    "\n",
    "    print(meta_data)\n",
    "    break"
   ]
  },
  {
   "cell_type": "code",
   "execution_count": 6,
   "metadata": {},
   "outputs": [
    {
     "name": "stdout",
     "output_type": "stream",
     "text": [
      "단정하게 넘긴 풍성한 헤어 스타일과 깨끗한 피부는 깔끔한 인상을 주며 미소를 먹은 듯한 입술에선 친절한 미소가 보인다. 쌍꺼풀이 없는 눈매이긴 하나 눈이 오목하게 동글하게 생겨 부드럽게 보인다.\n",
      "/Images/sketch/H/4197_12002.jpg\n",
      "/Images/org_sketch/4197.png\n"
     ]
    }
   ],
   "source": [
    "for json_path in json_list:\n",
    "    with open(json_path, 'r') as f:\n",
    "        meta_data = json.load(f)\n",
    "\n",
    "    print(meta_data['description']['impression']['description'])\n",
    "    print(meta_data['sketch_info']['img_path'])\n",
    "    print(meta_data['org_sketch_info']['img_path'])\n",
    "    break"
   ]
  },
  {
   "cell_type": "code",
   "execution_count": 17,
   "metadata": {},
   "outputs": [
    {
     "name": "stderr",
     "output_type": "stream",
     "text": [
      "100%|██████████| 24213/24213 [00:07<00:00, 3389.45it/s]"
     ]
    },
    {
     "name": "stdout",
     "output_type": "stream",
     "text": [
      "48426 48426\n"
     ]
    },
    {
     "name": "stderr",
     "output_type": "stream",
     "text": [
      "\n"
     ]
    }
   ],
   "source": [
    "target_path = '../preprocessed'\n",
    "\n",
    "img_list = []\n",
    "label_list = []\n",
    "\n",
    "os.makedirs(target_path, exist_ok=True)\n",
    "os.makedirs(os.path.join(target_path, 'images'), exist_ok=True)\n",
    "os.makedirs(os.path.join(target_path, 'labels'), exist_ok=True)\n",
    "\n",
    "for i, json_path in enumerate(tqdm(json_list)):\n",
    "    with open(json_path, 'r',encoding='cp949') as f:\n",
    "        meta_data = json.load(f)\n",
    "\n",
    "    if 'impression' in meta_data['descripton']:\n",
    "        text = meta_data['descripton']['impression']['description']\n",
    "    else:\n",
    "        # print(meta_data['descripton'][0])\n",
    "        text = meta_data['descripton']['face']['description']\n",
    "\n",
    "    img_path = os.path.join(base_path, meta_data['sketch_info']['img_path'][1:])\n",
    "    orig_img_path = os.path.join(base_path, meta_data['org_sketch_info']['img_path'][1:])\n",
    "\n",
    "    target_img_path = os.path.join(target_path, 'images', str(i).zfill(5) + '_' + os.path.splitext(os.path.basename(json_path))[0] + '.jpg')\n",
    "    target_orig_img_path = os.path.join(target_path, 'images', str(i).zfill(5) + '_' + 'orig_' + os.path.splitext(os.path.basename(json_path))[0] + '.png')\n",
    "\n",
    "    target_label_path = os.path.join(target_path, 'labels', str(i).zfill(5) + '_' + os.path.splitext(os.path.basename(json_path))[0] + '.txt')\n",
    "    target_orig_label_path = os.path.join(target_path, 'labels', str(i).zfill(5) + '_' + 'orig_' + os.path.splitext(os.path.basename(json_path))[0] + '.txt')\n",
    "\n",
    "    img_list.append(target_img_path)\n",
    "    img_list.append(target_orig_img_path)\n",
    "    label_list.append(target_label_path)\n",
    "    label_list.append(target_orig_label_path)\n",
    "\n",
    "    copy2(img_path, target_img_path)\n",
    "    copy2(orig_img_path, target_orig_img_path)\n",
    "\n",
    "    with open(target_label_path, 'w') as f:\n",
    "        f.write(text)\n",
    "    with open(target_orig_label_path, 'w') as f:\n",
    "        f.write(text)\n",
    "\n",
    "print(len(img_list), len(label_list))"
   ]
  },
  {
   "cell_type": "code",
   "execution_count": 18,
   "metadata": {},
   "outputs": [],
   "source": [
    "import numpy as np\n",
    "\n",
    "np.savetxt(os.path.join(target_path, 'image_list.txt'), img_list, fmt='%s')\n",
    "np.savetxt(os.path.join(target_path, 'label_list.txt'), label_list, fmt='%s')\n",
    "#np.savetxt(os.path.join(target_path, 'image_list_test.txt'), img_list, fmt='%s')\n",
    "#np.savetxt(os.path.join(target_path, 'label_list_test.txt'), label_list, fmt='%s')"
   ]
  },
  {
   "cell_type": "code",
   "execution_count": 22,
   "metadata": {},
   "outputs": [
    {
     "data": {
      "text/plain": [
       "48426.0"
      ]
     },
     "execution_count": 22,
     "metadata": {},
     "output_type": "execute_result"
    }
   ],
   "source": [
    "image_path = Path(os.path.join(target_path))\n",
    "image_files = [\n",
    "    *image_path.glob(\"**/*[0-9].txt\"),\n",
    "    *image_path.glob(\"**/*[0-9].jpg\"),\n",
    "    *image_path.glob(\"**/*[0-9].png\"),\n",
    "]\n",
    "\n",
    "len(image_files) / 2"
   ]
  },
  {
   "cell_type": "code",
   "execution_count": 7,
   "metadata": {},
   "outputs": [
    {
     "data": {
      "text/plain": [
       "1009"
      ]
     },
     "execution_count": 7,
     "metadata": {},
     "output_type": "execute_result"
    }
   ],
   "source": [
    "val_img_list = glob(os.path.join('/home/brad/Dataset/persona-montage/preprocessed', 'val/*.jpg'))\n",
    "\n",
    "len(val_img_list)"
   ]
  },
  {
   "cell_type": "code",
   "execution_count": 8,
   "metadata": {},
   "outputs": [],
   "source": [
    "import numpy as np\n",
    "\n",
    "np.savetxt(os.path.join('/home/brad/Dataset/persona-montage/preprocessed', 'image_list_test.txt'), val_img_list, fmt='%s')"
   ]
  },
  {
   "cell_type": "code",
   "execution_count": null,
   "metadata": {},
   "outputs": [],
   "source": [
    "# 경로 저장시 /가 \\로 잘못저장되었을 경우 실행\n",
    "for file_path in ['C:/Users/user/Downloads/persona-montage/preprocessed/image_list_test.txt','C:/Users/user/Downloads/persona-montage/preprocessed/image_list.txt','C:/Users/user/Downloads/persona-montage/preprocessed/label_list.txt','C:/Users/user/Downloads/persona-montage/preprocessed/label_list_test.txt']:\n",
    "  # 파일을 읽고 내용을 수정합니다.\n",
    "  with open(file_path, 'r', encoding='utf-8') as file:\n",
    "      content = file.read()\n",
    "\n",
    "  # 역슬래시를 슬래시로 바꿉니다.\n",
    "  new_content = content.replace('\\\\', '/')\n",
    "\n",
    "  # 같은 파일명으로 저장합니다.\n",
    "  with open(file_path, 'w', encoding='utf-8') as file:\n",
    "      file.write(new_content)\n",
    "\n",
    "  f = open(file_path, 'r')\n",
    "  lines = f.readlines()\n",
    "  for line in lines:\n",
    "      print(line)\n",
    "  f.close()"
   ]
  }
 ],
 "metadata": {
  "interpreter": {
   "hash": "1668b8e7bd20a3bbe2623bd6b9b3e4a10691f2683325e156afe276fa4db80d81"
  },
  "kernelspec": {
   "display_name": "Python 3.10.4 ('imagen')",
   "language": "python",
   "name": "python3"
  },
  "language_info": {
   "codemirror_mode": {
    "name": "ipython",
    "version": 3
   },
   "file_extension": ".py",
   "mimetype": "text/x-python",
   "name": "python",
   "nbconvert_exporter": "python",
   "pygments_lexer": "ipython3",
   "version": "3.10.4"
  },
  "orig_nbformat": 4
 },
 "nbformat": 4,
 "nbformat_minor": 2
}
