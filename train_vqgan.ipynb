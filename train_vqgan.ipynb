{
 "cells": [
  {
   "cell_type": "code",
   "execution_count": null,
   "metadata": {},
   "outputs": [],
   "source": [
    "# 로컬에서 전처리 해온 몽타주 데이터 압축 파일 압축 해제\n",
    "!cd /content/drive/MyDrive/aisys && unzip -qq \"preprocessed.zip\""
   ]
  },
  {
   "cell_type": "code",
   "execution_count": null,
   "metadata": {},
   "outputs": [],
   "source": [
    "!pip install -q condacolab\n",
    "import condacolab\n",
    "condacolab.install()"
   ]
  },
  {
   "cell_type": "code",
   "execution_count": null,
   "metadata": {},
   "outputs": [],
   "source": [
    "import condacolab\n",
    "#condacolab.check()\n",
    "!conda env create --file /content/drive/MyDrive/aisys/taming-transformers/environment.yaml\n",
    "#!source activate taming\n",
    "!/usr/local/envs/taming/bin/pip install wandb -qU\n",
    "!/usr/local/envs/taming/bin/pip install pudb\n",
    "# 기존 PyTorch 제거\n",
    "!/usr/local/envs/taming/bin/pip uninstall torch -y\n",
    "# CUDA 11.7을 지원하는 PyTorch 설치\n",
    "!/usr/local/envs/taming/bin/pip install torch==1.7.0+cu110 torchvision==0.8.1+cu110 -f https://download.pytorch.org/whl/torch_stable.html"
   ]
  },
  {
   "cell_type": "code",
   "execution_count": null,
   "metadata": {},
   "outputs": [],
   "source": [
    "!pip install wandb -qU\n",
    "# wandb login\n",
    "!wandb login\n",
    "# taming-transformers 폴더로 이동\n",
    "%cd /content/drive/MyDrive/aisys/taming-transformers\n",
    "!/usr/local/envs/taming/bin/python main.py --base configs/VQGAN_blue.yaml -t True --gpus 0, &"
   ]
  }
 ],
 "metadata": {
  "language_info": {
   "name": "python"
  }
 },
 "nbformat": 4,
 "nbformat_minor": 2
}
